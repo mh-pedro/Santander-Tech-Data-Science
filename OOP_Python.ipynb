{
 "cells": [
  {
   "cell_type": "markdown",
   "metadata": {},
   "source": [
    "# Aula 1 - Programação Orientada a Objetos I\n",
    "\n",
    "Pontos descutidos neste documento\n",
    "  - 1) Programação Orientada a Objetos:\n",
    "  - 2) Classes, Atributos, objetos e Métodos\n",
    "\n",
    "---\n",
    "\n",
    "Problema gerador: Como representar uma pessoa em um jogo eletrônico? \n",
    "Precisamos de uma estrutura para armazernar todas as informações de um personagem de um jogo. Como fazer isso?\n",
    "\n",
    "---\n",
    "---\n",
    "---"
   ]
  },
  {
   "cell_type": "markdown",
   "metadata": {},
   "source": [
    "## 1) Programação Orientada a Objetos\n",
    "\n",
    "O Python, como outras linguagens, é um dos chamados \"paradigmas de programação\". Isso porque uma linguagem de POO é fundamentalmente diferente de linguagens de outros paradigmas.\n",
    "\n",
    "O grande objetivo da POO é a **reutilização de código**.\n",
    "\n",
    "Os programas devem ser **modularizados**, de modo que diferentes pessoas possam implementar módulos diferentes e juntá-los ao final, e reaproveitar modulos diferentes.\n",
    "\n",
    "Dentro de POO, tudo isso é feito de acordo com as seguintes **entidades**:\n",
    "\n",
    "- Classes:\n",
    "\n",
    "    As classes são os \"moldes\" dos objetos, as entidades abstratas. Elas contêm as informações e os comportamentos que os objetos terão. \\\n",
    "     Todos os objetos pertencentes a uma mesma classes terão caracteristicas em comum. **Ex: Pessoa**\n",
    "\n",
    "- Objetos:\n",
    "\n",
    "    Os objetos são as instâncias concretas das classes, que são abstratas. Os objetos contêm as características comuns à classse, \\\n",
    "    mas cada um tem suas particularidades. **Ex: Eu**\n",
    "\n",
    "- Atributos:\n",
    "\n",
    "    Cada objeto particular de uma mesma classe tem valores diferentes para as variáveis internas da classe. Essas \"variáveis do objetos\"\\\n",
    "    chamamos de atributos. **Ex: a cor do seu cabelo**\n",
    "\n",
    "- Métodos\n",
    "\n",
    "    Métodos são as funções dentro da classe, que não podem ser executodas arbitrariamente, mas deverão ser chamadas necessariamente pelos objetos.\\\n",
    "    Os métodos podem utilizar os atributos e até mesmo alterá-los. **Ex: Você pintar seu cabelo para mudar de cor**\n",
    "\n",
    "Em POO, há **4 princípios de boas práticas** para a criação das entidades:\n",
    "\n",
    " - **Encapsulamentos:** Cada classe deve conter todas as informações necessárias para seu funcionamento bem como todos os métodos necessários para\\\n",
    " alterar as informações:\n",
    "\n",
    " - **Abstração:** As classes devem apresentar interfaces simples para o uso por outros desenvolvedores e para a interação com outras classes.\\\n",
    " Todos os detalhes complicados de seu funcionamento devem estár \"escondidos\" dentro de métodos simples de usar, com parâmetros e retornos bem definidos.\n",
    "\n",
    " - **Herança:** Se várias classes terão atributos e métodos comuns, não devemos ter que redigitá-los várias vezes. Ao invéns disso, criamos uma\\\n",
    " classe com esses atributos e métodoss comens e as outras classes irão herdá-los.\n",
    "\n",
    " - **Polimorfismo:** Objetos de diferentes classes herdeiras de uma mesma classe mãe podem ser tratados genericamente como objetos pertencentes à classe mãe.\n",
    "\n",
    " Vamos agora a exemplos específicos para ilustrar e concretizar todos os conceitos discutidos acima!\n",
    "\n",
    " ---"
   ]
  },
  {
   "cell_type": "markdown",
   "metadata": {},
   "source": [
    "## 2) Classes, Atributos, Objetos e Métodos\n",
    "\n",
    "Criando uma classe\n",
    "\n",
    "A criação de classes é feita segundo a seguinte estrutura\n",
    "\n",
    "```python\n",
    "class NomeDaClasse:\n",
    "\n",
    "    # método construtor\n",
    "    def __init__(self, atributos)\n",
    "\n",
    "        # definição dos atributos\n",
    "        self.atributos = atributos\n",
    "\n",
    "    # definição de outros métodos\n",
    "    def metodo(self, parametros):\n",
    "        operacoes\n",
    "\n",
    "```\n",
    "\n",
    "O **método construtor** é onde inicializamos alguns atributos que os objetos da classe terão!\n",
    "\n",
    "Os argumentos deste método são **obrigatórios** para a definição do objeto!\n",
    "    - Esse método é opcional, mas é uma boa prática sempre defini-lo!\n",
    "    - Sempre que um objeto é criado, este métido é chamado, automaticamente.\n",
    "\n",
    "O \"**self**\" sempre será o primeiro parâmetro dos métodos de uma classe, e ele é necessários para **fazer referências à classe**\n",
    "\n",
    "Assim, em geral, sempre usaremos dentro dos métodos alguma operação que **faça uso dos atributos da classe**, que é referenciada através do ```self```."
   ]
  },
  {
   "cell_type": "code",
   "execution_count": 1,
   "metadata": {},
   "outputs": [],
   "source": [
    "class Pessoa:\n",
    "\n",
    "    def __init__(self, name, age, res):\n",
    "\n",
    "        # Inicializar os atributos da classe\n",
    "        self.nome = name\n",
    "        self.idade = age\n",
    "        self.residencia = res\n",
    "        "
   ]
  },
  {
   "cell_type": "markdown",
   "metadata": {},
   "source": [
    "## Criação de objeto: instanciando uma classe\n",
    "\n",
    "Para criarmos um objeto ( instância concreta da classe abstrata), nós fazemos o processo de **instanciação**, que nada mais é do que **chamar a classe**,\\\n",
    "com os argumentos definidos no método construtor"
   ]
  },
  {
   "cell_type": "code",
   "execution_count": 5,
   "metadata": {},
   "outputs": [],
   "source": [
    "objeto_pessoa = Pessoa(\"Pedro\", 30, \"João Pessoa\")"
   ]
  },
  {
   "cell_type": "markdown",
   "metadata": {},
   "source": [
    "Se charmarmos a variável com o objeto, aparece apenas o endereço respectivo ao objeto:"
   ]
  },
  {
   "cell_type": "code",
   "execution_count": 6,
   "metadata": {},
   "outputs": [
    {
     "data": {
      "text/plain": [
       "<__main__.Pessoa at 0x7ca436b84940>"
      ]
     },
     "execution_count": 6,
     "metadata": {},
     "output_type": "execute_result"
    }
   ],
   "source": [
    "objeto_pessoa"
   ]
  },
  {
   "cell_type": "markdown",
   "metadata": {},
   "source": [
    "Mas podemos acessar cada um dos atributos desse objeto, que são aqueles definidos na classe.\n",
    "\n",
    "Para isso, seguimos a sintaxe"
   ]
  },
  {
   "cell_type": "code",
   "execution_count": 7,
   "metadata": {},
   "outputs": [
    {
     "data": {
      "text/plain": [
       "'Pedro'"
      ]
     },
     "execution_count": 7,
     "metadata": {},
     "output_type": "execute_result"
    }
   ],
   "source": [
    "objeto_pessoa.nome"
   ]
  },
  {
   "cell_type": "code",
   "execution_count": 8,
   "metadata": {},
   "outputs": [
    {
     "data": {
      "text/plain": [
       "30"
      ]
     },
     "execution_count": 8,
     "metadata": {},
     "output_type": "execute_result"
    }
   ],
   "source": [
    "objeto_pessoa.idade"
   ]
  },
  {
   "cell_type": "code",
   "execution_count": 10,
   "metadata": {},
   "outputs": [
    {
     "data": {
      "text/plain": [
       "'João Pessoa'"
      ]
     },
     "execution_count": 10,
     "metadata": {},
     "output_type": "execute_result"
    }
   ],
   "source": [
    "objeto_pessoa.residencia"
   ]
  },
  {
   "cell_type": "markdown",
   "metadata": {},
   "source": [
    "Os atributos são mutáveis! Para mudá-los, basta redefinir novos valores:"
   ]
  },
  {
   "cell_type": "code",
   "execution_count": 13,
   "metadata": {},
   "outputs": [
    {
     "data": {
      "text/plain": [
       "33"
      ]
     },
     "execution_count": 13,
     "metadata": {},
     "output_type": "execute_result"
    }
   ],
   "source": [
    "objeto_pessoa.idade +=1\n",
    "objeto_pessoa.idade"
   ]
  },
  {
   "cell_type": "code",
   "execution_count": 14,
   "metadata": {},
   "outputs": [
    {
     "data": {
      "text/plain": [
       "'Londres'"
      ]
     },
     "execution_count": 14,
     "metadata": {},
     "output_type": "execute_result"
    }
   ],
   "source": [
    "objeto_pessoa.residencia = \"Londres\"\n",
    "objeto_pessoa.residencia"
   ]
  },
  {
   "cell_type": "markdown",
   "metadata": {},
   "source": [
    "Podemos ver todos os atributos de um objeto."
   ]
  },
  {
   "cell_type": "code",
   "execution_count": 16,
   "metadata": {},
   "outputs": [
    {
     "data": {
      "text/plain": [
       "{'nome': 'Pedro', 'idade': 33, 'residencia': 'Londres'}"
      ]
     },
     "execution_count": 16,
     "metadata": {},
     "output_type": "execute_result"
    }
   ],
   "source": [
    "vars(objeto_pessoa)"
   ]
  },
  {
   "cell_type": "markdown",
   "metadata": {},
   "source": [
    "Podemos, também, adicionar novos atributos que não sejam **obrigatóriamente definindos na instacição da classe**. Para isso, os inicializamos\\\n",
    "na classe como vazios:"
   ]
  },
  {
   "cell_type": "code",
   "execution_count": 17,
   "metadata": {},
   "outputs": [],
   "source": [
    "class Pessoa:\n",
    "\n",
    "    def __init__(self, name, age, res):\n",
    "\n",
    "        # Inicializar os atributos da classe que terão valores definidos na instanciação\n",
    "        # como argumento do método construtor\n",
    "        self.nome = name\n",
    "        self.idade = age\n",
    "        self.residencia = res\n",
    "\n",
    "        # Inicializar alguns atributos cujos valores são fixados\n",
    "        self.num_filhos = 0\n",
    "        self.profissao = None # Ou str vazia\n"
   ]
  },
  {
   "cell_type": "code",
   "execution_count": 18,
   "metadata": {},
   "outputs": [],
   "source": [
    "maria = Pessoa(name = \"Maria\", age=18, res=\"Paris\")"
   ]
  },
  {
   "cell_type": "code",
   "execution_count": 19,
   "metadata": {},
   "outputs": [
    {
     "data": {
      "text/plain": [
       "{'nome': 'Maria',\n",
       " 'idade': 18,\n",
       " 'residencia': 'Paris',\n",
       " 'num_filhos': 0,\n",
       " 'profissao': None}"
      ]
     },
     "execution_count": 19,
     "metadata": {},
     "output_type": "execute_result"
    }
   ],
   "source": [
    "vars(maria)"
   ]
  },
  {
   "cell_type": "code",
   "execution_count": 20,
   "metadata": {},
   "outputs": [
    {
     "data": {
      "text/plain": [
       "0"
      ]
     },
     "execution_count": 20,
     "metadata": {},
     "output_type": "execute_result"
    }
   ],
   "source": [
    "maria.num_filhos"
   ]
  },
  {
   "cell_type": "markdown",
   "metadata": {},
   "source": [
    "## Métodos da classe: definindo e chamando \n",
    "\n",
    "Os métodos são **funções específicas de uma classe**, que só podem ser usadas após a criação de um objeto instância da classe.\n",
    "\n",
    "Assim, definimos os métodos dentro da classe, fazendo sempre referência á classe e seus atributos através do parâmetro **self**:"
   ]
  },
  {
   "cell_type": "code",
   "execution_count": 43,
   "metadata": {},
   "outputs": [],
   "source": [
    "class Pessoa:\n",
    "\n",
    "    def __init__(self, name, age, res):\n",
    "\n",
    "        # Inicializar os atributos da classe que terão valores definidos na instanciação\n",
    "        # como argumento do método construtor\n",
    "        self.nome = name\n",
    "        self.idade = age\n",
    "        self.residencia = res\n",
    "\n",
    "        # Inicializar alguns atributos cujos valores são fixados\n",
    "        self.num_filhos = 0\n",
    "        self.profissao = None # Ou str vazia\n",
    "\n",
    "    # Definindo outros métodos\n",
    "    def fala(self, mensagem):\n",
    "\n",
    "        print(f\"{self.nome} diz: '{mensagem}'\")"
   ]
  },
  {
   "cell_type": "markdown",
   "metadata": {},
   "source": [
    "Chamand o método, após instanciar a classe.\n",
    "\n",
    "Note, que o primeiro argumento do método, o \"self\", **é ingnorado**! Ele é apenas usado para referenciar os atributos da classe!"
   ]
  },
  {
   "cell_type": "code",
   "execution_count": 44,
   "metadata": {},
   "outputs": [],
   "source": [
    "maria = Pessoa(name = \"Maria\", age=18, res=\"Paris\")"
   ]
  },
  {
   "cell_type": "code",
   "execution_count": 45,
   "metadata": {},
   "outputs": [
    {
     "name": "stdout",
     "output_type": "stream",
     "text": [
      "Maria diz: 'Olá, tudo bem?'\n"
     ]
    }
   ],
   "source": [
    "maria.fala('Olá, tudo bem?')"
   ]
  },
  {
   "cell_type": "markdown",
   "metadata": {},
   "source": [
    "Vamos criar um método que altera diretamente os atributos:"
   ]
  },
  {
   "cell_type": "code",
   "execution_count": 57,
   "metadata": {},
   "outputs": [],
   "source": [
    "class Pessoa:\n",
    "\n",
    "    def __init__(self, name, age, res):\n",
    "\n",
    "        # Inicializar os atributos da classe que terão valores definidos na instanciação\n",
    "        # como argumento do método construtor\n",
    "        self.nome = name\n",
    "        self.idade = age\n",
    "        self.residencia = res\n",
    "\n",
    "        # Inicializar alguns atributos cujos valores são fixados\n",
    "        self.num_filhos = 0\n",
    "        self.profissao = None # Ou str vazia\n",
    "        self.salario = 0\n",
    "\n",
    "    # Definindo outros métodos\n",
    "    def fala(self, mensagem):\n",
    "\n",
    "        print(f\"{self.nome} diz: '{mensagem}'\")\n",
    "\n",
    "    def consegue_emprego(self, prof, valor_salario):\n",
    "       self.profissao = prof\n",
    "       self.salario = valor_salario\n",
    "\n",
    "    def aumenta_salario(self, porcentagem):\n",
    "       '''\n",
    "       porcentagem: float entre 0 e 1, indicando o percentual de aumento do salário\n",
    "       '''\n",
    "       self.salario = self.salario*(1+porcentagem)\n"
   ]
  },
  {
   "cell_type": "code",
   "execution_count": 60,
   "metadata": {},
   "outputs": [
    {
     "name": "stdout",
     "output_type": "stream",
     "text": [
      "None 0\n",
      "Cientista de Dados 5000\n",
      "Cientista de Dados 6500.0\n"
     ]
    }
   ],
   "source": [
    "maria = Pessoa(name = \"Maria\", age=18, res=\"Paris\")\n",
    "\n",
    "print(maria.profissao, maria.salario)\n",
    "\n",
    "maria.consegue_emprego('Cientista de Dados', 5000)\n",
    "\n",
    "print(maria.profissao, maria.salario)\n",
    "\n",
    "maria.aumenta_salario(0.3)\n",
    "print(maria.profissao, maria.salario)"
   ]
  },
  {
   "cell_type": "markdown",
   "metadata": {},
   "source": [
    "A este ponto, conseguimos reconhecer que já fizemos muito uso de métodos e objetos sem termos nos dado conta de sua existência!\n",
    "\n",
    "Por exemplo, para strings, usamos métodos como  ```.upper()```, ```.lower()```, ```.replace()```, etc\n",
    "\n",
    "Para séries do pandas, usamos ```.mean()```, ```.values_counts()```, etc\n",
    "\n",
    "Isso mostra que ```str```, ```list``` e ```pd.Series``` são estruturas de classe! E, realmente, eles são! Nos bastidores do Python,\\\n",
    "muita, coisa é feita com classes, sem que ao mesnos percebamos! E esse é uma das grandes vantagens desses métodos!\n",
    "\n",
    "---\n",
    "---\n",
    "---"
   ]
  },
  {
   "cell_type": "markdown",
   "metadata": {},
   "source": [
    "# Aula 2 - Métodos mágicos\n",
    "\n",
    "Nesta nota, vamos explorar os seguintes tópicos em Python:\n",
    "\n",
    "- 1 ) Métodos Mágicos\n",
    "\n",
    "----\n",
    "Problema Gerador: como oprar com dados de horários?\n",
    "\n",
    "Vamos definir uma classe para representar horários. Mas, e se eu quiser somar tempo, como podemos fazer isso?\n",
    "\n",
    "----\n",
    "----\n",
    "----\n"
   ]
  },
  {
   "cell_type": "markdown",
   "metadata": {},
   "source": [
    "## 1) Métodos mágicos\n",
    "\n",
    "Como o python enented que o sinal \"+\", quando aplicado à objetos da classe ```str``` deve **concatenar** as duas strings, ao invés de fazer\\\n",
    "alguma outra operação estranha de soma?\n",
    "\n",
    "Isso é feito a partir dos **métodos mágicos**\n",
    "\n",
    "Para ilustrar os usos desses métodos, vamos criar uma classe de horário:"
   ]
  },
  {
   "cell_type": "code",
   "execution_count": 3,
   "metadata": {},
   "outputs": [],
   "source": [
    "class Horario:\n",
    "\n",
    "    def __init__(self, hora, min, seg):\n",
    "    \n",
    "        self.h = hora\n",
    "        self.m = min\n",
    "        self.s = seg"
   ]
  },
  {
   "cell_type": "code",
   "execution_count": 4,
   "metadata": {},
   "outputs": [],
   "source": [
    "agora = Horario(15, 12, 30)"
   ]
  },
  {
   "cell_type": "code",
   "execution_count": 8,
   "metadata": {},
   "outputs": [
    {
     "data": {
      "text/plain": [
       "{'h': 15, 'm': 12, 's': 30}"
      ]
     },
     "execution_count": 8,
     "metadata": {},
     "output_type": "execute_result"
    }
   ],
   "source": [
    "vars(agora)"
   ]
  },
  {
   "cell_type": "markdown",
   "metadata": {},
   "source": [
    "## Métedo de representação\n",
    "\n",
    "O método ```__rep__``` é um método mágico que permite dar um \"print\" diretamento no objeto, segundo o formato estabelecido!\\\n",
    "Isto é, chamamos o objeto!\n",
    "\n",
    "Sem definir este método na classe, o print mostra apenas o endereço do método:"
   ]
  },
  {
   "cell_type": "code",
   "execution_count": 7,
   "metadata": {},
   "outputs": [
    {
     "data": {
      "text/plain": [
       "<__main__.Horario at 0x7e5f70dc77c0>"
      ]
     },
     "execution_count": 7,
     "metadata": {},
     "output_type": "execute_result"
    }
   ],
   "source": [
    "agora"
   ]
  },
  {
   "cell_type": "code",
   "execution_count": 9,
   "metadata": {},
   "outputs": [
    {
     "name": "stdout",
     "output_type": "stream",
     "text": [
      "<__main__.Horario object at 0x7e5f70dc77c0>\n"
     ]
    }
   ],
   "source": [
    "print(agora)"
   ]
  },
  {
   "cell_type": "markdown",
   "metadata": {},
   "source": [
    "Mas, se quisermos redefenir a representação"
   ]
  },
  {
   "cell_type": "code",
   "execution_count": 16,
   "metadata": {},
   "outputs": [],
   "source": [
    "class Horario:\n",
    "\n",
    "    def __init__(self, hora, min, seg):\n",
    "    \n",
    "        self.h = hora\n",
    "        self.m = min\n",
    "        self.s = seg\n",
    "\n",
    "    def __repr__(self):\n",
    "\n",
    "        return f\"{self.h}:{self.m}:{self.s}\""
   ]
  },
  {
   "cell_type": "code",
   "execution_count": 17,
   "metadata": {},
   "outputs": [],
   "source": [
    "agora = Horario(15, 12, 30)"
   ]
  },
  {
   "cell_type": "code",
   "execution_count": 18,
   "metadata": {},
   "outputs": [
    {
     "data": {
      "text/plain": [
       "15:12:30"
      ]
     },
     "execution_count": 18,
     "metadata": {},
     "output_type": "execute_result"
    }
   ],
   "source": [
    "agora"
   ]
  },
  {
   "cell_type": "code",
   "execution_count": 20,
   "metadata": {},
   "outputs": [
    {
     "data": {
      "text/plain": [
       "15:7:3"
      ]
     },
     "execution_count": 20,
     "metadata": {},
     "output_type": "execute_result"
    }
   ],
   "source": [
    "h1 = Horario(15, 7, 3)\n",
    "h1"
   ]
  },
  {
   "cell_type": "markdown",
   "metadata": {},
   "source": [
    "Vamos corrigir a nossa representação, pois o funcionamente não está completo."
   ]
  },
  {
   "cell_type": "code",
   "execution_count": 23,
   "metadata": {},
   "outputs": [],
   "source": [
    "class Horario:\n",
    "\n",
    "    def __init__(self, hora, min, seg):\n",
    "    \n",
    "        self.h = hora\n",
    "        self.m = min\n",
    "        self.s = seg\n",
    "\n",
    "    def __repr__(self):\n",
    "\n",
    "        return f\"{self.h:02d}:{self.m:02d}:{self.s:02d}\" # Fixamos que os números tenha dois digitos usando a formatação :02d"
   ]
  },
  {
   "cell_type": "code",
   "execution_count": 24,
   "metadata": {},
   "outputs": [
    {
     "data": {
      "text/plain": [
       "15:07:03"
      ]
     },
     "execution_count": 24,
     "metadata": {},
     "output_type": "execute_result"
    }
   ],
   "source": [
    "h1 = Horario(15, 7, 3)\n",
    "h1"
   ]
  },
  {
   "cell_type": "markdown",
   "metadata": {},
   "source": [
    "---\n",
    "\n",
    "Um método mágico parecido com o ```__repr__``` é o ```__str__```. Na prática, este método determina o que será exibido PELO PRINT!\n",
    "\n",
    "Se não definir o ```__str__```, o print vai exibir exatamente o que está no ```__repr__```.\n",
    "\n",
    "Mas, se tiver ambos definidos, temos:\n",
    "\n",
    "- ```__repr__```: exibe a \"chamada\";\n",
    "- ```__str__```: exibe o print()."
   ]
  },
  {
   "cell_type": "code",
   "execution_count": 32,
   "metadata": {},
   "outputs": [],
   "source": [
    "class Horario:\n",
    "\n",
    "    def __init__(self, hora, min, seg):\n",
    "    \n",
    "        self.h = hora\n",
    "        self.m = min\n",
    "        self.s = seg\n",
    "\n",
    "    def __repr__(self):\n",
    "\n",
    "        return f\"{self.h:02d}:{self.m:02d}:{self.s:02d}\" # Fixamos que os números tenha dois digitos usando a formatação :02d\n",
    "    \n",
    "    def __str__(self):\n",
    "\n",
    "        return f\"O horário é: {self.h:02d}:{self.m:02d}:{self.s:02d}\" "
   ]
  },
  {
   "cell_type": "code",
   "execution_count": 33,
   "metadata": {},
   "outputs": [],
   "source": [
    "h1 = Horario(15, 7, 3)"
   ]
  },
  {
   "cell_type": "code",
   "execution_count": 34,
   "metadata": {},
   "outputs": [
    {
     "data": {
      "text/plain": [
       "15:07:03"
      ]
     },
     "execution_count": 34,
     "metadata": {},
     "output_type": "execute_result"
    }
   ],
   "source": [
    "h1 # Aqui estamos chamando a variável e é aqui que o __repr__ é executado"
   ]
  },
  {
   "cell_type": "code",
   "execution_count": 35,
   "metadata": {},
   "outputs": [
    {
     "name": "stdout",
     "output_type": "stream",
     "text": [
      "O horário é: 15:07:03\n"
     ]
    }
   ],
   "source": [
    "print(h1) # Aqui estamos printando a variável e __str__ é executado"
   ]
  },
  {
   "cell_type": "markdown",
   "metadata": {},
   "source": [
    "Assim conseguimos melhorar muito a representação visual dos nossos objetos!\n",
    "\n",
    "Vamos olhar um exemplo com o Pandas"
   ]
  },
  {
   "cell_type": "code",
   "execution_count": 39,
   "metadata": {},
   "outputs": [],
   "source": [
    "import pandas as pd\n",
    "\n",
    "df = pd.DataFrame({\"a\" : [1, 2, 3, 4, 5],\n",
    "                   \"b\" : [5, 6, 7, 8, 9]})"
   ]
  },
  {
   "cell_type": "code",
   "execution_count": 40,
   "metadata": {},
   "outputs": [
    {
     "data": {
      "text/html": [
       "<div>\n",
       "<style scoped>\n",
       "    .dataframe tbody tr th:only-of-type {\n",
       "        vertical-align: middle;\n",
       "    }\n",
       "\n",
       "    .dataframe tbody tr th {\n",
       "        vertical-align: top;\n",
       "    }\n",
       "\n",
       "    .dataframe thead th {\n",
       "        text-align: right;\n",
       "    }\n",
       "</style>\n",
       "<table border=\"1\" class=\"dataframe\">\n",
       "  <thead>\n",
       "    <tr style=\"text-align: right;\">\n",
       "      <th></th>\n",
       "      <th>a</th>\n",
       "      <th>b</th>\n",
       "    </tr>\n",
       "  </thead>\n",
       "  <tbody>\n",
       "    <tr>\n",
       "      <th>0</th>\n",
       "      <td>1</td>\n",
       "      <td>5</td>\n",
       "    </tr>\n",
       "    <tr>\n",
       "      <th>1</th>\n",
       "      <td>2</td>\n",
       "      <td>6</td>\n",
       "    </tr>\n",
       "    <tr>\n",
       "      <th>2</th>\n",
       "      <td>3</td>\n",
       "      <td>7</td>\n",
       "    </tr>\n",
       "    <tr>\n",
       "      <th>3</th>\n",
       "      <td>4</td>\n",
       "      <td>8</td>\n",
       "    </tr>\n",
       "    <tr>\n",
       "      <th>4</th>\n",
       "      <td>5</td>\n",
       "      <td>9</td>\n",
       "    </tr>\n",
       "  </tbody>\n",
       "</table>\n",
       "</div>"
      ],
      "text/plain": [
       "   a  b\n",
       "0  1  5\n",
       "1  2  6\n",
       "2  3  7\n",
       "3  4  8\n",
       "4  5  9"
      ]
     },
     "execution_count": 40,
     "metadata": {},
     "output_type": "execute_result"
    }
   ],
   "source": [
    "df"
   ]
  },
  {
   "cell_type": "code",
   "execution_count": 41,
   "metadata": {},
   "outputs": [
    {
     "name": "stdout",
     "output_type": "stream",
     "text": [
      "   a  b\n",
      "0  1  5\n",
      "1  2  6\n",
      "2  3  7\n",
      "3  4  8\n",
      "4  5  9\n"
     ]
    }
   ],
   "source": [
    "print(df)"
   ]
  },
  {
   "cell_type": "markdown",
   "metadata": {},
   "source": [
    "Podemos notar que a representação é diferente dependendo do método usado.\n",
    "\n",
    "Vamos, a seguir, definir um método de soma de horas na nossa classe, que vai ser chamado pelo operador aritimético \"+\",\\\n",
    "ou seja, será o método ```__add__```"
   ]
  },
  {
   "cell_type": "code",
   "execution_count": 60,
   "metadata": {},
   "outputs": [],
   "source": [
    "class Horario:\n",
    "\n",
    "    def __init__(self, hora, min, seg):\n",
    "    \n",
    "        self.h = hora\n",
    "        self.m = min\n",
    "        self.s = seg\n",
    "\n",
    "    def __repr__(self):\n",
    "\n",
    "        return f\"{self.h:02d}:{self.m:02d}:{self.s:02d}\" # Fixamos que os números tenha dois digitos usando a formatação :02d\n",
    "    \n",
    "    def __str__(self):\n",
    "\n",
    "        return f\"{self.h:02d}:{self.m:02d}:{self.s:02d}\" \n",
    "    \n",
    "    def __add__(self, other):\n",
    "\n",
    "        se = self.s + other.s\n",
    "        mi = self.m+ other.m\n",
    "        ho = self.h + other.h\n",
    "\n",
    "        if se >= 60:\n",
    "            mi += 1\n",
    "            se -=60\n",
    "        if mi >= 60:\n",
    "            ho += 1\n",
    "            mi -=60\n",
    "        \n",
    "        if ho >=24:\n",
    "            ho -=24\n",
    "\n",
    "        return Horario(ho,mi,se)"
   ]
  },
  {
   "cell_type": "code",
   "execution_count": 61,
   "metadata": {},
   "outputs": [],
   "source": [
    "h1 = Horario(9,27,42)\n",
    "h2 = Horario(7,38,39)"
   ]
  },
  {
   "cell_type": "code",
   "execution_count": 62,
   "metadata": {},
   "outputs": [
    {
     "name": "stdout",
     "output_type": "stream",
     "text": [
      "Entrei às 09:27:42\n",
      "Trabalhei por 07:38:39\n",
      "Vou sair às 17:06:21\n"
     ]
    }
   ],
   "source": [
    "print(f\"Entrei às {h1}\\nTrabalhei por {h2}\\nVou sair às {h1+h2}\")"
   ]
  },
  {
   "cell_type": "markdown",
   "metadata": {},
   "source": [
    "## Métodos lógicos\n",
    "\n",
    "Da mesma forma que há métodos mágicos para operações aritiméticas, há também para **operações lógicas!**\n",
    "\n",
    "Conhecemos alguns exemples implementados pros tipos nativos:\n",
    "\n",
    "- ```__gt__```: maior que (greater than): >\n",
    "- ```__ge__```: maior ou igual (greater or equal): >=\n",
    "- ```__lt__```: menor que (less than): <\n",
    "- ```__le__```: menor ou igual (less or equal): <=\n",
    "- ```__eq__```: igual (equal): =\n",
    "- ```__ne__```: diferente (not equal): !=\n",
    "\n",
    "Como usar os métodos lógicos para comprar horários"
   ]
  },
  {
   "cell_type": "code",
   "execution_count": 82,
   "metadata": {},
   "outputs": [],
   "source": [
    "class Horario:\n",
    "\n",
    "    def __init__(self, hora, min, seg):\n",
    "    \n",
    "        self.h = hora\n",
    "        self.m = min\n",
    "        self.s = seg\n",
    "\n",
    "    def __repr__(self):\n",
    "\n",
    "        return f\"{self.h:02d}:{self.m:02d}:{self.s:02d}\" # Fixamos que os números tenha dois digitos usando a formatação :02d\n",
    "    \n",
    "    def __str__(self):\n",
    "\n",
    "        return f\"{self.h:02d}:{self.m:02d}:{self.s:02d}\" \n",
    "    \n",
    "    def __add__(self, other):\n",
    "\n",
    "        se = self.s + other.s\n",
    "        mi = self.m+ other.m\n",
    "        ho = self.h + other.h\n",
    "\n",
    "        if se >= 60:\n",
    "            mi += 1\n",
    "            se -=60\n",
    "        if mi >= 60:\n",
    "            ho += 1\n",
    "            mi -=60\n",
    "        \n",
    "        if ho >=24:\n",
    "            ho -=24\n",
    "\n",
    "        return Horario(ho,mi,se)\n",
    "    \n",
    "    def __gt__(self, other):\n",
    "        if self.h > other.h:\n",
    "            return True\n",
    "        elif self.h == other.h and self.m > other.m:\n",
    "            return True\n",
    "        elif self.h == other.h and self.m == other.m and self.s > other.s:\n",
    "            return True\n",
    "        \n",
    "        return False\n",
    "    \n",
    "    def __eq__(self, other):\n",
    "\n",
    "        if self.h == other.h and self.m == other.m and self.s == other.s:\n",
    "            return True\n",
    "        return False"
   ]
  },
  {
   "cell_type": "code",
   "execution_count": 88,
   "metadata": {},
   "outputs": [
    {
     "data": {
      "text/plain": [
       "False"
      ]
     },
     "execution_count": 88,
     "metadata": {},
     "output_type": "execute_result"
    }
   ],
   "source": [
    "h1 = Horario(9,27,42)\n",
    "h2 = Horario(7,38,39)\n",
    "\n",
    "h1 == h2"
   ]
  },
  {
   "cell_type": "markdown",
   "metadata": {},
   "source": [
    "Note que não definimos o operador ```__le__```, mas as operações menor e maior são operações complementares.\n",
    "\n",
    "---\n",
    "---\n",
    "---"
   ]
  },
  {
   "cell_type": "markdown",
   "metadata": {},
   "source": [
    "# Aula 3) Herança e Polimorfismo\n",
    "\n",
    "Imagine que você tenha várias classes com os mesmos atributos, os mesmos métodos e mesmos parâmetros.\n",
    "\n",
    "Reeescrevê-los várias vezes é um desperdício de tempo! Além disso, se precisarmos atualizar um método, precisaremos fazer/\n",
    "a modificação múltiplas vezes.\n",
    "\n",
    "Para solucionar esta questão, trataremos dos conceitos de **heranças** e **polimorfismo**."
   ]
  },
  {
   "cell_type": "markdown",
   "metadata": {},
   "source": [
    "## Herança\n",
    "\n",
    "É possível criar **classes filhas** que herdam atributos e métodos de uma **classe mãe** atráves de **herança**.\n",
    "\n",
    "Para herdar, colocamos o **nome da classe mãe entre parênteses** na frente do nome da classe filha em sua definição.\n",
    "\n",
    "Se necessário, podemos redefinir um método na classe filha."
   ]
  },
  {
   "cell_type": "code",
   "execution_count": 113,
   "metadata": {},
   "outputs": [],
   "source": [
    "class Animal:\n",
    "\n",
    "    def __init__(self, nome):\n",
    "        self.nome = nome\n",
    "\n",
    "    def fala(self):\n",
    "        print(f\"{self.nome} faz barulho!\")"
   ]
  },
  {
   "cell_type": "code",
   "execution_count": 114,
   "metadata": {},
   "outputs": [],
   "source": [
    "a1 = Animal(\"Grilho\")"
   ]
  },
  {
   "cell_type": "code",
   "execution_count": 115,
   "metadata": {},
   "outputs": [
    {
     "name": "stdout",
     "output_type": "stream",
     "text": [
      "Grilho faz barulho!\n"
     ]
    }
   ],
   "source": [
    "a1.fala()"
   ]
  },
  {
   "cell_type": "code",
   "execution_count": 120,
   "metadata": {},
   "outputs": [
    {
     "name": "stdout",
     "output_type": "stream",
     "text": [
      "léo late!\n"
     ]
    }
   ],
   "source": [
    "c1 = Cachorro(\"léo\")\n",
    "c1.fala()"
   ]
  },
  {
   "cell_type": "code",
   "execution_count": 125,
   "metadata": {},
   "outputs": [
    {
     "name": "stdout",
     "output_type": "stream",
     "text": [
      "léo late!\n"
     ]
    }
   ],
   "source": [
    "class Cachorro(Animal):\n",
    "    \n",
    "    def fala(self):\n",
    "        print(f\"{self.nome} late!\")\n",
    "\n",
    "c1 = Cachorro(\"léo\")\n",
    "c1.fala()"
   ]
  },
  {
   "cell_type": "code",
   "execution_count": 126,
   "metadata": {},
   "outputs": [
    {
     "name": "stdout",
     "output_type": "stream",
     "text": [
      "Legolas mia!\n"
     ]
    }
   ],
   "source": [
    "class Gato(Animal):\n",
    "    \n",
    "    def fala(self):\n",
    "        print(f\"{self.nome} mia!\")\n",
    "\n",
    "g1 = Gato(\"Legolas\")\n",
    "g1.fala()"
   ]
  },
  {
   "cell_type": "markdown",
   "metadata": {},
   "source": [
    "Imagine agora que queremos herdar um método **parcialmente**, com a possibilidade de alterá-lo.\n",
    "Isso é importante, pois se apenas copiássemos o método original, qualquer alteração nele teria de ser feita em todos os locais onde ele é copiado...\n",
    "\n",
    "Para isso, usamos o método ```super()```"
   ]
  },
  {
   "cell_type": "code",
   "execution_count": 131,
   "metadata": {},
   "outputs": [],
   "source": [
    "class Cachorro(Animal):\n",
    "\n",
    "    def __init__(self, nome, raca, cor_do_pelo):\n",
    "\n",
    "        super().__init__(nome)\n",
    "        self.raca = raca\n",
    "        self.cor_do_pelo = cor_do_pelo\n",
    "\n",
    "    \n",
    "    def fala(self):\n",
    "\n",
    "        super().fala()\n",
    "        print(f\"Mas, por ser um cachorro, {self.nome} late!\")"
   ]
  },
  {
   "cell_type": "code",
   "execution_count": 132,
   "metadata": {},
   "outputs": [
    {
     "name": "stdout",
     "output_type": "stream",
     "text": [
      "léo faz barulho!\n",
      "Mas, por ser um cachorro, léo late!\n"
     ]
    }
   ],
   "source": [
    "c1 = Cachorro(\"léo\", \"vira lata\", \"caramelo\")\n",
    "c1.fala()"
   ]
  },
  {
   "cell_type": "markdown",
   "metadata": {},
   "source": [
    "## Polimorfismo\n",
    "\n",
    "Do grego, \"**váris formas**\". A ideia é que um objeto de uma certa classe pode ser comportar como objeto de outras classe.\n",
    "\n",
    "Mais especificamente, **objetos de uma classe filha podem também ser tratados como se pertencesssem à classe mãe**.\n",
    "\n",
    "O método ```isinstance```recebe 2 parâmetros: um objeto e uma classe.\n",
    "\n",
    "Ele retirba True caso o objeto pertença à classe, e False caso não pertença.\n",
    "\n",
    "Isso é útil porque uma função que seja feita para lidar com Animal será capaz de lidar com qualquer classe herdeira de Animal\\\n",
    "com a mesma facilidade"
   ]
  },
  {
   "cell_type": "code",
   "execution_count": 133,
   "metadata": {},
   "outputs": [],
   "source": [
    "g2 = Gato(\"Fred\")\n",
    "c2 = Cachorro(\"Leo\", \"viralata\", \"branco\")"
   ]
  },
  {
   "cell_type": "code",
   "execution_count": 135,
   "metadata": {},
   "outputs": [
    {
     "data": {
      "text/plain": [
       "True"
      ]
     },
     "execution_count": 135,
     "metadata": {},
     "output_type": "execute_result"
    }
   ],
   "source": [
    "isinstance(g2,Gato) # O objeto g2 é da classe Gato? "
   ]
  },
  {
   "cell_type": "code",
   "execution_count": 137,
   "metadata": {},
   "outputs": [
    {
     "data": {
      "text/plain": [
       "True"
      ]
     },
     "execution_count": 137,
     "metadata": {},
     "output_type": "execute_result"
    }
   ],
   "source": [
    "isinstance(g2,Animal) # O objeto g2 é da classe Animal? "
   ]
  },
  {
   "cell_type": "markdown",
   "metadata": {},
   "source": [
    "Um ponto importante, classes irmãs não estabeleces relações entre si."
   ]
  },
  {
   "cell_type": "code",
   "execution_count": 139,
   "metadata": {},
   "outputs": [
    {
     "data": {
      "text/plain": [
       "False"
      ]
     },
     "execution_count": 139,
     "metadata": {},
     "output_type": "execute_result"
    }
   ],
   "source": [
    "isinstance(g2, Cachorro) # O objeto g2 é da classe Cachorro?"
   ]
  }
 ],
 "metadata": {
  "kernelspec": {
   "display_name": "Python 3",
   "language": "python",
   "name": "python3"
  },
  "language_info": {
   "codemirror_mode": {
    "name": "ipython",
    "version": 3
   },
   "file_extension": ".py",
   "mimetype": "text/x-python",
   "name": "python",
   "nbconvert_exporter": "python",
   "pygments_lexer": "ipython3",
   "version": "3.10.12"
  }
 },
 "nbformat": 4,
 "nbformat_minor": 2
}
