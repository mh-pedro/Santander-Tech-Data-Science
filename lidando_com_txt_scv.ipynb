{
 "cells": [
  {
   "cell_type": "markdown",
   "metadata": {},
   "source": [
    "# Lidando com txt e csv em Python\n",
    "\n",
    "Nesta nota, vamos explorar os seguintes tópicos em Python:\n",
    "\n",
    "- 1) Arquivos em Python\n",
    "- 2) Arquivos csv\n",
    "\n",
    "_____________\n",
    "\n",
    "Problema gerador: como podemos processar um arquivo com as notas de alunos?\n",
    "\n",
    "---\n",
    "---\n",
    "---"
   ]
  },
  {
   "cell_type": "markdown",
   "metadata": {},
   "source": [
    "## 1) Arquivos em Python\n",
    "\n",
    "Todos os programas que fizemos até o momento tinham variáveis, input e output **temporários**, guardados na memória RAM do computador **enquanto o programa é executado**.\n",
    "\n",
    "Após o programa ser finalizado, todas as variáveis, inputs e outputs eram perdidos.\n",
    "\n",
    "Muitas vezes queremos que esses valores sejam armazenados, que os dados processados pelo programa sejam preservados. O termo para esta característica é **persistência de dados**.\n",
    "\n",
    "A persistência se dá através de **arquivos**: documentos criados para **armazenar dados em uma memória permanente**, como o **disco rígido**, um **USB** ou um **servidor web**.\n",
    "\n",
    "O Python têm algumas funções padrão para a manipulação de arquivos. Vamos vê-las!\n",
    "\n",
    "A função `open()` é usada pra abrir arquivos existentes ou criar um arquivo novo. \n",
    "\n",
    "Ela possui 2 argumentos: o primeiro é o caminho do arquivo, com seu nome (se apenas o nome do arquivo for passado, isso é interpretado como o arquivo estando na mesma pasta que o código!); e o segundo é o modo de operação. Os modos são:\n",
    "\n",
    "- r -\tlê um arquivo existente\n",
    "- w -\tcria um novo arquivo\n",
    "- a -\tabre um arquivo existente para adicionar informações ao seu final\n",
    "- \\+ -\tao ser combinado com outros modos, permite alteração de arquivo já existente (ex: r+ abre um arquivo existente e permite modificá-lo)\n",
    "\n",
    "O terceiro argumento é o \"encoding\", que dá a codificação do arquivo. Pra evitar problemas, é legal sempre usar `encoding=\"utf-8\"`\n",
    "\n"
   ]
  },
  {
   "cell_type": "code",
   "execution_count": 2,
   "metadata": {},
   "outputs": [],
   "source": [
    "arquivo = open(\"ola_mundo.txt\", \"w\", encoding=\"utf-8\")"
   ]
  },
  {
   "cell_type": "markdown",
   "metadata": {},
   "source": [
    "Se analisarmoms a variável \"arquivo\" (é um retur da função `open()`), note que há algumas coisas estranhas.."
   ]
  },
  {
   "cell_type": "code",
   "execution_count": 3,
   "metadata": {},
   "outputs": [
    {
     "data": {
      "text/plain": [
       "<_io.TextIOWrapper name='ola_mundo.txt' mode='w' encoding='utf-8'>"
      ]
     },
     "execution_count": 3,
     "metadata": {},
     "output_type": "execute_result"
    }
   ],
   "source": [
    "arquivo"
   ]
  },
  {
   "cell_type": "markdown",
   "metadata": {},
   "source": [
    "Uma vez aberto o arquivo, podemos escrever alguma coisa nele. Para isso, usamos o método `write()`\n",
    "\n",
    "Essa função aceita apenas um argumento, que é o que você quer escrever no arquivo -- e **deve ser uma string!**"
   ]
  },
  {
   "cell_type": "code",
   "execution_count": 4,
   "metadata": {},
   "outputs": [
    {
     "data": {
      "text/plain": [
       "11"
      ]
     },
     "execution_count": 4,
     "metadata": {},
     "output_type": "execute_result"
    }
   ],
   "source": [
    "arquivo.write(\"Olá, mundo!\")"
   ]
  },
  {
   "cell_type": "markdown",
   "metadata": {},
   "source": [
    "Após abrirmos (ou criamos) um arquivo, e fazer as operações desejadas com ele, devemos fecha-ló usando o método\\\n",
    "`close()`. Essa etapa é importante por 2 motivos:\n",
    "\n",
    "- Se alerarmos o aquivo mas não o fecharmos, as alterações não serão salvas.\n",
    "- Se esquercermos de fechar um arquivo, outros programas podem ter problemas de acesso a ele.\n",
    "\n",
    "Por isso, **nunca se esqueça de fechar os arquivos abertos!**"
   ]
  },
  {
   "cell_type": "code",
   "execution_count": 5,
   "metadata": {},
   "outputs": [],
   "source": [
    "arquivo.close()"
   ]
  },
  {
   "cell_type": "markdown",
   "metadata": {},
   "source": [
    "Apesar desta ser uma forma clara e direta, existe um procedimento mais robusto e mais seguro, que é utilizando\\\n",
    "o ambiente `with`.\n",
    "\n",
    "O `with` garante que, quando o bloco de código em seu interior for executado, todos os recursos que foram criados\\\n",
    "(indicados após o `as`) serão liberados!\n",
    "\n",
    "No nosso caso, o recurso é justamento um arquivo! Com o `with`, nós garantimos que **o arquivo será aberto e fechado**,\\\n",
    "independente se ocorro qualquer erro antes do arquivo ser fechado! Isso é muito importante, pois garante maior segurança\\\n",
    "e robustez ao nosso código!"
   ]
  },
  {
   "cell_type": "code",
   "execution_count": 6,
   "metadata": {},
   "outputs": [],
   "source": [
    "with open(\"ola_mundo_2.txt\", \"w\", encoding=\"utf-8\") as f:\n",
    "    f.write(\"Olá, mundo!\\nEsse é meu segundo arquivo usando o ambiente with\")"
   ]
  },
  {
   "cell_type": "markdown",
   "metadata": {},
   "source": [
    "Agora quero escrever mais informações"
   ]
  },
  {
   "cell_type": "code",
   "execution_count": 7,
   "metadata": {},
   "outputs": [
    {
     "ename": "UnsupportedOperation",
     "evalue": "not writable",
     "output_type": "error",
     "traceback": [
      "\u001b[0;31m---------------------------------------------------------------------------\u001b[0m",
      "\u001b[0;31mUnsupportedOperation\u001b[0m                      Traceback (most recent call last)",
      "Cell \u001b[0;32mIn[7], line 2\u001b[0m\n\u001b[1;32m      1\u001b[0m \u001b[38;5;28;01mwith\u001b[39;00m \u001b[38;5;28mopen\u001b[39m(\u001b[38;5;124m\"\u001b[39m\u001b[38;5;124mola_mundo.txt\u001b[39m\u001b[38;5;124m\"\u001b[39m, \u001b[38;5;124m\"\u001b[39m\u001b[38;5;124mr\u001b[39m\u001b[38;5;124m\"\u001b[39m, encoding\u001b[38;5;241m=\u001b[39m\u001b[38;5;124m\"\u001b[39m\u001b[38;5;124mutf-8\u001b[39m\u001b[38;5;124m\"\u001b[39m) \u001b[38;5;28;01mas\u001b[39;00m f:\n\u001b[0;32m----> 2\u001b[0m     \u001b[43mf\u001b[49m\u001b[38;5;241;43m.\u001b[39;49m\u001b[43mwrite\u001b[49m\u001b[43m(\u001b[49m\u001b[38;5;124;43m\"\u001b[39;49m\u001b[38;5;124;43mEscrevendo algo novo\u001b[39;49m\u001b[38;5;124;43m\"\u001b[39;49m\u001b[43m)\u001b[49m\n",
      "\u001b[0;31mUnsupportedOperation\u001b[0m: not writable"
     ]
    }
   ],
   "source": [
    "with open(\"ola_mundo.txt\", \"r\", encoding=\"utf-8\") as f:\n",
    "    f.write(\"Escrevendo algo novo\")"
   ]
  },
  {
   "cell_type": "markdown",
   "metadata": {},
   "source": [
    "Note que encontramos um erro, pois o modo \"r\" permite **apenas a leitura do arquivo**\n",
    "\n",
    "Se queremos escrever algo nele, usamos o \"r+\""
   ]
  },
  {
   "cell_type": "code",
   "execution_count": 8,
   "metadata": {},
   "outputs": [],
   "source": [
    "with open(\"ola_mundo.txt\", \"r+\", encoding=\"utf-8\") as f:\n",
    "    f.write(\"Escrevendo algo novo\")"
   ]
  },
  {
   "cell_type": "markdown",
   "metadata": {},
   "source": [
    "Note, no entanto, que se usarmos o modo \"r+\", o write substitui o conteúdo anterior da primeira linha\\\n",
    "do arquivo! Isso porque este modo equivale a colocar o cursor **no começo do arquivo** e escreve a partir dali,\\\n",
    "como se tivesse com o `Insert` selecionado.\n",
    "\n",
    "Para corrigir isso, usamos o modo \"a\", que permite escrever **AO FIM** do arquivo. Isso equivale a colocar\\\n",
    "o cursos **no último caractere escrito**, e começar a escrever a partir dali!"
   ]
  },
  {
   "cell_type": "code",
   "execution_count": 10,
   "metadata": {},
   "outputs": [],
   "source": [
    "with open(\"ola_mundo.txt\", \"a\", encoding=\"utf-8\") as f:\n",
    "    f.write(\"\\nEscrevendo algo novo\")"
   ]
  },
  {
   "cell_type": "markdown",
   "metadata": {},
   "source": [
    "O método `write()` pode apenas ser usado para escrever strings ao arquivo!"
   ]
  },
  {
   "cell_type": "markdown",
   "metadata": {},
   "source": [
    "Agora vamos trabalhar com a leitura."
   ]
  },
  {
   "cell_type": "code",
   "execution_count": 13,
   "metadata": {},
   "outputs": [],
   "source": [
    "with open(\"ola_mundo.txt\", \"r\", encoding=\"utf-8\") as f:\n",
    "    cont = f.read()"
   ]
  },
  {
   "cell_type": "code",
   "execution_count": 14,
   "metadata": {},
   "outputs": [
    {
     "data": {
      "text/plain": [
       "'Escrevendo algo novoEscrevendo algo novo\\nEscrevendo algo novo'"
      ]
     },
     "execution_count": 14,
     "metadata": {},
     "output_type": "execute_result"
    }
   ],
   "source": [
    "cont"
   ]
  },
  {
   "cell_type": "markdown",
   "metadata": {},
   "source": [
    "Da mesma forma que o `write()` apenas escrevia strings, o `read()` lê o arquivo como uma string.\n",
    "\n",
    "Como o `read()` lê o que estiver no arquivo em forma de uma string, temos que as quebras de linha\\\n",
    "serão, portanto, armazenadas como \"\\n\".\n",
    "\n",
    "A partir daí, dá para pegar cada linha e colcoar numa lista:"
   ]
  },
  {
   "cell_type": "code",
   "execution_count": 15,
   "metadata": {},
   "outputs": [
    {
     "name": "stdout",
     "output_type": "stream",
     "text": [
      "Escrevendo algo novoEscrevendo algo novo\n",
      "Escrevendo algo novo\n"
     ]
    }
   ],
   "source": [
    "print(cont)"
   ]
  },
  {
   "cell_type": "code",
   "execution_count": null,
   "metadata": {},
   "outputs": [
    {
     "data": {
      "text/plain": [
       "['Escrevendo algo novoEscrevendo algo novo', 'Escrevendo algo novo']"
      ]
     },
     "execution_count": 16,
     "metadata": {},
     "output_type": "execute_result"
    }
   ],
   "source": [
    "cont.split(\"\\n\")"
   ]
  },
  {
   "cell_type": "code",
   "execution_count": 20,
   "metadata": {},
   "outputs": [],
   "source": [
    "notas = [8, 9, 8.5, 10, 10, 6, 7, 8.8]\n",
    "\n",
    "with open(\"notas.txt\", \"w\", encoding='utf-8') as f:\n",
    "\n",
    "    f.write(f\"{notas[0]}\")\n",
    "\n",
    "    for elemento in notas[1:]:\n",
    "        f.write(f\"\\n{elemento}\")"
   ]
  },
  {
   "cell_type": "code",
   "execution_count": 21,
   "metadata": {},
   "outputs": [],
   "source": [
    "with open(\"notas.txt\", \"r\", encoding='utf-8') as f:\n",
    "\n",
    "    conteudo = f.read()\n"
   ]
  },
  {
   "cell_type": "code",
   "execution_count": 24,
   "metadata": {},
   "outputs": [
    {
     "data": {
      "text/plain": [
       "[8.0, 9.0, 8.5, 10.0, 10.0, 6.0, 7.0, 8.8]"
      ]
     },
     "execution_count": 24,
     "metadata": {},
     "output_type": "execute_result"
    }
   ],
   "source": [
    "notas_lidas_float = [float(elemento) for elemento in notas]\n",
    "notas_lidas_float"
   ]
  },
  {
   "cell_type": "code",
   "execution_count": 26,
   "metadata": {},
   "outputs": [
    {
     "data": {
      "text/plain": [
       "8.4125"
      ]
     },
     "execution_count": 26,
     "metadata": {},
     "output_type": "execute_result"
    }
   ],
   "source": [
    "sum(notas_lidas_float)/len(notas_lidas_float)"
   ]
  },
  {
   "cell_type": "markdown",
   "metadata": {},
   "source": [
    "## 2) Arquivios CSV\n",
    "\n",
    "Um tipo de arquivo muito comum é o **CSV**\n",
    "\n",
    "A sigla **CSV** significa **Comma-Separated Values**, \"**valores separados por vírgula**\".\n",
    "\n",
    "Este formato é uma forma padrão de representar tabelas usando arquivos de texto simples: cada elemento é separado por\\\n",
    "vírgula (ou pontp-e-vírgula, ou, qualquer outro separador), e cada linha é separada por uma quebra de linha.\n",
    "\n",
    "Em Python, podemos entender um arquivo CSV como uma lista de lista.\n",
    "\n",
    "Imagine que queremos armazenar um arquivo csv. Começamos com uma lista de listas:"
   ]
  },
  {
   "cell_type": "code",
   "execution_count": 27,
   "metadata": {},
   "outputs": [],
   "source": [
    "tabela = [['Aluno', 'Nota 1', 'Nota 2', 'Presença'],\n",
    "          ['Luke', 7, 8, 75],\n",
    "          ['Han', 4, 7, 100],\n",
    "          ['Leia', 9, 9, 50]]"
   ]
  },
  {
   "cell_type": "code",
   "execution_count": 28,
   "metadata": {},
   "outputs": [
    {
     "data": {
      "text/plain": [
       "[['Aluno', 'Nota 1', 'Nota 2', 'Presença'],\n",
       " ['Luke', 7, 8, 75],\n",
       " ['Han', 4, 7, 100],\n",
       " ['Leia', 9, 9, 50]]"
      ]
     },
     "execution_count": 28,
     "metadata": {},
     "output_type": "execute_result"
    }
   ],
   "source": [
    "tabela"
   ]
  },
  {
   "cell_type": "markdown",
   "metadata": {},
   "source": [
    "Pode não ser tão simples escrever esta lista de liestas em um arquivo usando o método `write()`, como vimos antes.\n",
    "\n",
    "Para trabalhar com arquivos csv, vamos utilizar a biblioteca `csv` do python!\n",
    "\n",
    "Desta biblioteca, vamos usar duas funções:\n",
    "\n",
    " - **método de escrita**: `csv.writer().writerows()`\n",
    " - **método de leitura**: `csv.reader()`"
   ]
  },
  {
   "cell_type": "code",
   "execution_count": 29,
   "metadata": {},
   "outputs": [],
   "source": [
    "import csv"
   ]
  },
  {
   "cell_type": "markdown",
   "metadata": {},
   "source": [
    "Como queremos escrever o arquivo."
   ]
  },
  {
   "cell_type": "code",
   "execution_count": 30,
   "metadata": {},
   "outputs": [],
   "source": [
    "with open(\"alunos_SW.csv\", \"w\", encoding='utf-8') as f:\n",
    "\n",
    "    csv.writer(f, delimiter=',', lineterminator='\\n').writerows(tabela)"
   ]
  },
  {
   "cell_type": "markdown",
   "metadata": {},
   "source": [
    "E como lemos  este arquivo?\n",
    "\n",
    "Para isso, temos que utilizar a função `reader()` da bibliioteca csv:"
   ]
  },
  {
   "cell_type": "code",
   "execution_count": 35,
   "metadata": {},
   "outputs": [
    {
     "data": {
      "text/plain": [
       "'Aluno,Nota 1,Nota 2,Presença\\n'"
      ]
     },
     "execution_count": 35,
     "metadata": {},
     "output_type": "execute_result"
    }
   ],
   "source": [
    "with open(\"alunos_SW.csv\", \"r\", encoding='utf-8') as f:\n",
    "\n",
    "    primeira_linha = f.readline()\n",
    "\n",
    "primeira_linha"
   ]
  },
  {
   "cell_type": "markdown",
   "metadata": {},
   "source": [
    "Desta forma conseguimos ler apenas a primeira linha do nosso arquivo, assim conseguimos identificar como o arquivo\\\n",
    "está estruturado"
   ]
  },
  {
   "cell_type": "code",
   "execution_count": 38,
   "metadata": {},
   "outputs": [],
   "source": [
    "with open(\"alunos_SW.csv\", \"r\", encoding='utf-8') as f:\n",
    "    tabela_lida = []\n",
    "    leitor = csv.reader(f, delimiter=',', lineterminator='\\n')\n",
    "\n",
    "    for linha in leitor:\n",
    "        tabela_lida.append(linha)"
   ]
  },
  {
   "cell_type": "code",
   "execution_count": 39,
   "metadata": {},
   "outputs": [
    {
     "data": {
      "text/plain": [
       "[['Aluno', 'Nota 1', 'Nota 2', 'Presença'],\n",
       " ['Luke', '7', '8', '75'],\n",
       " ['Han', '4', '7', '100'],\n",
       " ['Leia', '9', '9', '50']]"
      ]
     },
     "execution_count": 39,
     "metadata": {},
     "output_type": "execute_result"
    }
   ],
   "source": [
    "tabela_lida"
   ]
  },
  {
   "cell_type": "markdown",
   "metadata": {},
   "source": [
    "Um ponto importante. \n",
    "\n",
    "Inicialmente, os números eram `int()`, apos a leitura, o conteúdo da lista são strings."
   ]
  },
  {
   "cell_type": "code",
   "execution_count": 40,
   "metadata": {},
   "outputs": [],
   "source": [
    "with open(\"alunos_SW.csv\", \"r\", encoding='utf-8') as f:\n",
    "\n",
    "    tabela_lida = [linha for linha in csv.reader(f, delimiter=',', lineterminator='\\n')]"
   ]
  },
  {
   "cell_type": "code",
   "execution_count": 41,
   "metadata": {},
   "outputs": [
    {
     "data": {
      "text/plain": [
       "[['Aluno', 'Nota 1', 'Nota 2', 'Presença'],\n",
       " ['Luke', '7', '8', '75'],\n",
       " ['Han', '4', '7', '100'],\n",
       " ['Leia', '9', '9', '50']]"
      ]
     },
     "execution_count": 41,
     "metadata": {},
     "output_type": "execute_result"
    }
   ],
   "source": [
    "tabela_lida"
   ]
  },
  {
   "cell_type": "markdown",
   "metadata": {},
   "source": [
    "**Vamos agora processar esse arquivo que acabemos de ler.**\n",
    "\n",
    "Imagina que queremos calcular qual é a média de determinado aluno, a partir  do seu nome!\n",
    "\n",
    "Para fazer isso, usamos **list comprehension** para fazer uma lista com os nomes dos alunos:"
   ]
  },
  {
   "cell_type": "code",
   "execution_count": 53,
   "metadata": {},
   "outputs": [
    {
     "name": "stdout",
     "output_type": "stream",
     "text": [
      "A média do aluno Han é: 5.5\n"
     ]
    }
   ],
   "source": [
    "aluno = \"Han\"\n",
    "\n",
    "dados_aluno = tabela_lida[[linha[0] for linha in tabela_lida].index(aluno)]\n",
    "media = (float(dados_aluno[1]) + float(dados_aluno[2]))/2\n",
    "print(f\"A média do aluno {aluno} é: {media}\")"
   ]
  },
  {
   "cell_type": "code",
   "execution_count": 49,
   "metadata": {},
   "outputs": [
    {
     "data": {
      "text/plain": [
       "7.5"
      ]
     },
     "execution_count": 49,
     "metadata": {},
     "output_type": "execute_result"
    }
   ],
   "source": [
    "media = (float(dados_aluno[1]) + float(dados_aluno[2]))/2\n",
    "media"
   ]
  }
 ],
 "metadata": {
  "kernelspec": {
   "display_name": "Python 3",
   "language": "python",
   "name": "python3"
  },
  "language_info": {
   "codemirror_mode": {
    "name": "ipython",
    "version": 3
   },
   "file_extension": ".py",
   "mimetype": "text/x-python",
   "name": "python",
   "nbconvert_exporter": "python",
   "pygments_lexer": "ipython3",
   "version": "3.10.12"
  }
 },
 "nbformat": 4,
 "nbformat_minor": 2
}
