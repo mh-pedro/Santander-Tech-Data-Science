{
 "cells": [
  {
   "cell_type": "markdown",
   "metadata": {},
   "source": [
    "# Banco de dados\n",
    "\n",
    "Neste modulo iremos aprender como trabalhar com banco de dados, desde a modelagem dos dados que serão implementados no banco de dados,\\\n",
    "manutenção, criação do banco de dados outras funcionalidades.\n",
    "\n",
    "Iremos tratar neste modulo um banco de dados de uma escola, no qual terá as disciplinas, professores, alunos e etc.\\\n",
    "O modulo será divido em três fases, são elas:\n",
    "\n",
    "- 0. Entendimento do sistema que gerência o banco de dados;\n",
    "- 1. Modelagem das tabelas, relação entre elas e garantir que estejam dentro de normas;\n",
    "- 2. Implementação dos dados no banco;\n",
    "- 3. Funcionalidades de gerenciamento e qualidade.\n",
    "\n",
    "---\n",
    "---\n",
    "---\n",
    "\n"
   ]
  },
  {
   "cell_type": "markdown",
   "metadata": {},
   "source": [
    "## 0) Gerenciamento do banco de dados\n",
    "\n",
    "Para gerenciarmos um grande volume de dados é necessário a utilização de um programa que tem a capacidade de lidar com grande volumes.\\\n",
    "O programa que vamos utilizar é o [PostgreSQL](https://www.postgresql.org/), conhecido com um dos maiores programa para lidar com dados.\\\n",
    "Uma das sua principais característica é ser Open Source, tornando-o transparente, mas também por ser amplamente utilizado, possui uma boa aceitação.\n",
    "\n",
    "Para realizar sua instalação, basta acessar o link do programa e baixar a versão condizente com a versão do seu sistema.\n",
    "\n",
    "Após a instalação em uma distro Linux, devemos instalar o [pdAdmin](https://www.pgadmin.org/download/) que será uma interface gráfica para facilitar\\\n",
    "com o tratamento dos bancos de dados. É possível acessar via [web-pdAdmim](http://127.0.0.1/pgadmin4/login?next=/pgadmin4/) ou pela interface gráfica\\\n",
    "instalada.\n",
    "\n",
    "Para acessar o terminal do postgres usamos o comando `sudo -u  postgres psql`\n",
    "\n"
   ]
  },
  {
   "cell_type": "markdown",
   "metadata": {},
   "source": [
    "# 1) Modelagem de dados\n",
    "\n",
    "Nesta fase iremos entender os tipos de dados e como modela-lós.\\\n",
    "Em um banco de dados temos diversos tipos de dados, mas os quatro mais comuns são:\n",
    "\n",
    "- Numéricos; \n",
    "    - Inteiros e os Reais\n",
    "- Textuais;\n",
    "- Data;\n",
    "- Boleano.\n",
    "\n",
    "É importante saber quais os tipos de dados que estamos trabalhando, quanto de memória eles ocupam e sua diferenças.\\\n",
    "Para isto temos que analisar a [documentação](https://www.postgresql.org/docs/). \n",
    "\n",
    "Dentro da modelagem de dados, temos o termo conhecido como **entidades** que é a representação do que desejamos\\\n",
    "ter como dados, ex: alunos, nome, data e etc.\n",
    "\n",
    "Dentro da modelagem buscamos saber como representar essas **entidades**, para isso, utilizamos o método de modelagem\\\n",
    "**Diagrama de entidade relacionamento**\n",
    "\n",
    "Vamos aqui modelar um banco de dados de uma escola.\n",
    "\n",
    "![Modelagem dos dados](modelagem_dos_dados.png)"
   ]
  },
  {
   "cell_type": "markdown",
   "metadata": {},
   "source": [
    "## Normalização \n",
    "\n",
    "Ao construir um banco de dados é necessário construir seguindo as normalização, são elas:\n",
    "\n",
    "- 1. Cada atributo deve conter apenas um valor correspondente.\n",
    "- 2. Cada elemento da tabela deve depender apenas da sua chave primária\n",
    "- 3. Um elemento não-chave da tabela não pode depender de outro elemento não-chave"
   ]
  },
  {
   "cell_type": "markdown",
   "metadata": {},
   "source": []
  }
 ],
 "metadata": {
  "language_info": {
   "name": "python"
  }
 },
 "nbformat": 4,
 "nbformat_minor": 2
}
