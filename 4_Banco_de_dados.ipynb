{
 "cells": [
  {
   "cell_type": "markdown",
   "metadata": {},
   "source": [
    "# Banco de dados\n",
    "\n",
    "Neste modulo iremos aprender como trabalhar com banco de dados, desde a modelagem dos dados que serão implementados no banco de dados,\\\n",
    "manutenção, criação do banco de dados outras funicionalidades.\n",
    "\n",
    "Iremos tratar neste modulo um banco de dados de uma escola, no qual terá as discplinas, professores, alunos e etc.\\\n",
    "O modulo será divido em três fases, são elas:\n",
    "\n",
    "- 0. Entendimento do sistema que gerência o banco de dados;\n",
    "- 1. Modelagem das tabelas, relação entre elas e garantir que estejam dentro de normas;\n",
    "- 2. Implementação dos dados no banco;\n",
    "- 3. Funcionalidades de genrenciamento e qualidade.\n",
    "\n",
    "---\n",
    "---\n",
    "---\n",
    "\n"
   ]
  },
  {
   "cell_type": "markdown",
   "metadata": {},
   "source": [
    "## 0) Gerenciamento do banco de dados\n",
    "\n",
    "Para gerenciarmos um grande volume de dados é necessário a utilização de um programa que tem a capacidade de lidar com grande volumes.\\\n",
    "O programa que vamos utilizar é o [PostgreSQL](https://www.postgresql.org/), conhecido com um dos maiores programa para lidar com dados.\\\n",
    "Uma das sua princípais característica é ser Open Source, tornando-o transparente, mas também por ser amplamente utilizado, possui uma boa aceitação.\n",
    "\n",
    "Para realizar sua instalação, basta acessar o link do programa e baixar a versão condizente com a verão do seu sistema.\n"
   ]
  },
  {
   "cell_type": "code",
   "execution_count": null,
   "metadata": {
    "vscode": {
     "languageId": "plaintext"
    }
   },
   "outputs": [],
   "source": [
    "caracteristica"
   ]
  }
 ],
 "metadata": {
  "language_info": {
   "name": "python"
  }
 },
 "nbformat": 4,
 "nbformat_minor": 2
}
